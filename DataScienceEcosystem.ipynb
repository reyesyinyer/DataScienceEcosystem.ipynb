{
 "cells": [
  {
   "cell_type": "markdown",
   "id": "46ec3703-b470-47f3-9574-7019abb4f011",
   "metadata": {},
   "source": [
    "**Data Science Tools and Ecosystem**"
   ]
  },
  {
   "cell_type": "markdown",
   "id": "8fdd518f-f518-4782-967d-6af904aa36b1",
   "metadata": {},
   "source": [
    "**In this notebook, Data Science Tools and Ecosystem are summarized**"
   ]
  },
  {
   "cell_type": "markdown",
   "id": "49763362-fd2e-42db-a0e2-7c2ed6862917",
   "metadata": {},
   "source": [
    "**This notebook covered key concepts and practical exercises in Data Science, including:**\n",
    "\n",
    "Introduction to Jupyter Notebook: Creating and managing Markdown and code cells.\n",
    "\n",
    "Basic Python Operations: Evaluating arithmetic expressions (e.g., (3*4)+5).\n",
    "\n",
    "Unit Conversions: Transforming units (e.g., minutes to hours) programmatically.\n",
    "\n",
    "Data Science Tools: Listing open-source tools like JupyterLab, RStudio, and VS Code.\n",
    "\n",
    "Markdown Formatting: Creating tables, headers, and lists for documentation."
   ]
  },
  {
   "cell_type": "markdown",
   "id": "848ef880-7258-4de4-8fae-57a1e4424612",
   "metadata": {},
   "source": [
    "**Some of the popular languages that Data Scientists use are**:\n",
    "Python\n",
    "SQL\n",
    "JAVA\n",
    "\n",
    "\n"
   ]
  },
  {
   "cell_type": "markdown",
   "id": "0f12e0b0-070b-4c1d-bae1-c727013b166a",
   "metadata": {},
   "source": [
    "**Some of the commonly used libraries used by Data Scientists include:**\n",
    "NumPy\n",
    "Pandas \n",
    "Matplotlib \n"
   ]
  },
  {
   "cell_type": "markdown",
   "id": "b9f6cf5e-0fb3-4db0-857b-b410cf71ca41",
   "metadata": {},
   "source": [
    "| Data Science Tools     |\n",
    "|------------------------|\n",
    "| Jupyter Notebook       |\n",
    "| RStudio                |\n",
    "| VS Code (Python/R/Julia) |"
   ]
  },
  {
   "cell_type": "markdown",
   "id": "5e7009eb-4a83-4228-8909-8eb283713800",
   "metadata": {},
   "source": [
    "### Below are a few examples of evaluating arithmetic expressions in Python  \n",
    "\n",
    "- Suma: 2 + 3 = 5\n",
    "- Resta: 5 - 1 = 4\n",
    "- Multiplicación: 3 * 4 = 12\n",
    "- División: 10 / 2 = 5.0(retorna float)  \n",
    "- División entera: 10 // 3 = 3 \n",
    "- Potencia: 2 ** 3 = 8 \n",
    "- Módulo (residuo): 10 % 3 = 1  "
   ]
  },
  {
   "cell_type": "code",
   "execution_count": 3,
   "id": "4593acf6-0bdd-4ba4-b3cd-4e651c9e05ec",
   "metadata": {},
   "outputs": [
    {
     "data": {
      "text/plain": [
       "17"
      ]
     },
     "execution_count": 3,
     "metadata": {},
     "output_type": "execute_result"
    }
   ],
   "source": [
    "# Esta es una expresión aritmética simple para multiplicar y luego sumar números enteros\n",
    "resultado = (3 * 4) + 5\n",
    "resultado"
   ]
  },
  {
   "cell_type": "code",
   "execution_count": 4,
   "id": "2433f3e8-200c-4d3e-9ded-4641d47a1ebd",
   "metadata": {},
   "outputs": [
    {
     "data": {
      "text/plain": [
       "3.3333333333333335"
      ]
     },
     "execution_count": 4,
     "metadata": {},
     "output_type": "execute_result"
    }
   ],
   "source": [
    "# Esto convertirá 200 minutos en horas dividiendo entre 60\n",
    "minutos = 200\n",
    "horas = minutos / 60\n",
    "horas"
   ]
  },
  {
   "cell_type": "markdown",
   "id": "be15a618-f99e-4d2b-b91b-f30b35eaaaca",
   "metadata": {},
   "source": [
    "## Author  \n",
    "\n",
    "**Nombre:** Yinyer\n",
    "**Rol:** Científico de Datos/Analista/Estudiante  \n",
    "**Contacto:** Reyesyinyer@gmail.com \n",
    "**GitHub:** https://github.com/reyesyinyer\n",
    "\n",
    "*\"La ciencia de datos transforma datos en conocimiento accionable.\"*  "
   ]
  },
  {
   "cell_type": "code",
   "execution_count": null,
   "id": "819f9076-3c48-4621-b4ac-37976b6fd1e8",
   "metadata": {},
   "outputs": [],
   "source": []
  }
 ],
 "metadata": {
  "kernelspec": {
   "display_name": "Python [conda env:base] *",
   "language": "python",
   "name": "conda-base-py"
  },
  "language_info": {
   "codemirror_mode": {
    "name": "ipython",
    "version": 3
   },
   "file_extension": ".py",
   "mimetype": "text/x-python",
   "name": "python",
   "nbconvert_exporter": "python",
   "pygments_lexer": "ipython3",
   "version": "3.12.7"
  }
 },
 "nbformat": 4,
 "nbformat_minor": 5
}
